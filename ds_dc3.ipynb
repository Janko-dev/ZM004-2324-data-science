{
 "cells": [
  {
   "cell_type": "code",
   "execution_count": 2,
   "metadata": {},
   "outputs": [],
   "source": [
    "import matplotlib.pyplot as plt\n",
    "import numpy as np\n",
    "import pandas as pd\n",
    "import seaborn as sns"
   ]
  },
  {
   "cell_type": "markdown",
   "metadata": {},
   "source": [
    "## Regression analysis\n",
    "\n",
    "- Onderzoek relatie tussen afhankelijke (target) variabele en onafhankelijke (predictor) variabelen\n",
    "- We nemen aan dat de target een lineaire combinatie is van inputs \n",
    "$$\n",
    "    \\mathbf{y} = f(\\mathbf{X}) + \\epsilon\n",
    "$$\n",
    "waarbij:\n",
    "- $\\mathbf{y}$ is de afhankelijke target variabele is\n",
    "- $\\mathbf{X} = (x_1, x_2, \\dots, x_d)$ zijn de onafhankelijke predictors\n",
    "- $\\epsilon$ is de random error (ruis) die niet reduceerbaar is\n",
    "\n",
    "Regressie analyse geeft antwoord op de vraag:\n",
    "- Hoe veranderd $\\mathbf{y}$ als $x_i$ veranderd, terwijl $\\{x_1, x_2, \\dots, x_d\\}/x_i$ constant blijven?\n",
    "\n",
    "We gaan kijken naar:\n",
    "- Lineaire regressie\n",
    "- Polynomiale regressie\n",
    "- Logistische regressie"
   ]
  },
  {
   "cell_type": "code",
   "execution_count": 68,
   "metadata": {},
   "outputs": [
    {
     "data": {
      "image/png": "[encoded data removed]",
      "text/plain": [
       "<Figure size 640x480 with 1 Axes>"
      ]
     },
     "metadata": {},
     "output_type": "display_data"
    }
   ],
   "source": [
    "df = np.array([\n",
    "    [1, 2.4],\n",
    "    [1.8, 4.9],\n",
    "    [2.7, 5.5],\n",
    "    [3.2, 7.1],\n",
    "    [4.7, 8.3],\n",
    "], dtype='float32')\n",
    "\n",
    "x = df[:, 0]\n",
    "y = df[:, 1]\n",
    "\n",
    "plt.scatter(x, y)\n",
    "plt.xlabel(\"x\")\n",
    "plt.ylabel(\"y\")\n",
    "plt.show()"
   ]
  },
  {
   "cell_type": "markdown",
   "metadata": {},
   "source": [
    "### Linear regression\n",
    "\n",
    "We gebruiken een lineaire lijn om $\\mathbf{y} = f(\\mathbf{X}) + \\epsilon$ te schatten\n",
    "$$\n",
    "    \\hat{y} = \\beta_0 + \\beta_1 x_1 + \\beta_2 x_2 + \\dots + \\beta_d x_d\n",
    "$$\n",
    "waarbij:\n",
    "- $(\\beta_0, \\beta_1, \\beta_2, \\dots, \\beta_d)$ de gewichten (parameters/coefficienten) zijn van de regressielijn\n",
    "\n",
    "Hoe berekenen we de $\\beta$ parameters?\n",
    "\n",
    "Als er 1 input dimensie is, $x$, dan volgt:\n",
    "$$\n",
    "    \\hat{y} = \\beta_0 + \\beta_1 x\n",
    "$$\n",
    "De parameters $\\beta_0$ en $\\beta_1$ berekenen we met:\n",
    "\\begin{align*}\n",
    "    \\beta_1 &= r \\times \\dfrac{\\sigma_y}{\\sigma_x}\\\\\n",
    "    \\beta_0 &= \\bar{y} - \\beta_1 \\bar{x}\n",
    "\\end{align*}\n",
    "\n",
    "Waarbij:\n",
    "- $r$ is de Pearson correlatie coefficient tussen $x$ en $y$\n",
    "- $\\sigma_x, \\sigma_y$ zijn de standaard deviatie van $x, y$, respectievelijk\n",
    "- $\\bar{x}, \\bar{y}$ zijn de mean gemiddelden van $x, y$, respectievelijk"
   ]
  },
  {
   "cell_type": "code",
   "execution_count": 69,
   "metadata": {},
   "outputs": [
    {
     "data": {
      "text/plain": [
       "(1.51816814679922, 1.5379971867680033, 0.9630218505859375)"
      ]
     },
     "execution_count": 69,
     "metadata": {},
     "output_type": "execute_result"
    }
   ],
   "source": [
    "# mean, std, en z-score voor x\n",
    "x_mean = x.mean()\n",
    "x_std = x.std()\n",
    "z_x = (x-x_mean)/x_std\n",
    "\n",
    "# mean, std, en z-score voor y\n",
    "y_mean = y.mean()\n",
    "y_std = y.std()\n",
    "z_y = (y-y_mean)/y_std\n",
    "\n",
    "n = df.shape[0]\n",
    "\n",
    "r = np.sum(z_x*z_y)/n\n",
    "\n",
    "b1 = r * y_std/x_std\n",
    "b0 = y_mean-b1*x_mean\n",
    "\n",
    "b0, b1, r"
   ]
  },
  {
   "cell_type": "code",
   "execution_count": 70,
   "metadata": {},
   "outputs": [
    {
     "data": {
      "text/plain": [
       "[<matplotlib.lines.Line2D at 0x75cfa58a4500>]"
      ]
     },
     "execution_count": 70,
     "metadata": {},
     "output_type": "execute_result"
    },
    {
     "data": {
      "image/png": "[encoded data removed]",
      "text/plain": [
       "<Figure size 640x480 with 1 Axes>"
      ]
     },
     "metadata": {},
     "output_type": "display_data"
    }
   ],
   "source": [
    "f = lambda x: b0 + x * b1\n",
    "\n",
    "plt.scatter(x, y)\n",
    "plt.plot([0, 5], [f(0), f(5)])"
   ]
  },
  {
   "cell_type": "code",
   "execution_count": 74,
   "metadata": {},
   "outputs": [
    {
     "data": {
      "text/plain": [
       "(1.5181684, 1.5379971)"
      ]
     },
     "execution_count": 74,
     "metadata": {},
     "output_type": "execute_result"
    }
   ],
   "source": [
    "# Valideer met LinearRegression van Sklearn\n",
    "from sklearn.linear_model import LinearRegression\n",
    "\n",
    "reg = LinearRegression().fit(x.reshape(-1, 1), y)\n",
    "\n",
    "reg.intercept_, reg.coef_[0]"
   ]
  },
  {
   "cell_type": "code",
   "execution_count": 75,
   "metadata": {},
   "outputs": [
    {
     "data": {
      "text/plain": [
       "(1.51816814679922, 1.5379971867680033)"
      ]
     },
     "execution_count": 75,
     "metadata": {},
     "output_type": "execute_result"
    }
   ],
   "source": [
    "b0, b1"
   ]
  },
  {
   "cell_type": "markdown",
   "metadata": {},
   "source": [
    "### Polynomial regression\n",
    "\n",
    "Hetzelfde lineair model, maar er is een preprocessing stap die we doen:\n",
    "$$\n",
    "    \\mathbf{X}_p = \\begin{bmatrix}\n",
    "        x^0\\\\\n",
    "        x^1\\\\\n",
    "        x^2\\\\\n",
    "        \\vdots\\\\\n",
    "        x^n\n",
    "    \\end{bmatrix}\n",
    "$$\n",
    "Nu krijgen we:\n"
   ]
  },
  {
   "cell_type": "code",
   "execution_count": 33,
   "metadata": {},
   "outputs": [
    {
     "data": {
      "text/plain": [
       "array([[1. , 1. ],\n",
       "       [1. , 1.8],\n",
       "       [1. , 2.7],\n",
       "       [1. , 3.2],\n",
       "       [1. , 4.7]], dtype=float32)"
      ]
     },
     "execution_count": 33,
     "metadata": {},
     "output_type": "execute_result"
    }
   ],
   "source": [
    "X = np.array([np.ones_like(x), x]).T\n",
    "X"
   ]
  },
  {
   "cell_type": "code",
   "execution_count": 42,
   "metadata": {},
   "outputs": [
    {
     "data": {
      "text/plain": [
       "[<matplotlib.lines.Line2D at 0x75cfa679c290>]"
      ]
     },
     "execution_count": 42,
     "metadata": {},
     "output_type": "execute_result"
    },
    {
     "data": {
      "image/png": "[encoded data removed]",
      "text/plain": [
       "<Figure size 640x480 with 1 Axes>"
      ]
     },
     "metadata": {},
     "output_type": "display_data"
    }
   ],
   "source": [
    "B = np.linalg.pinv(X.T @ X) @ X.T @ y\n",
    "\n",
    "f = lambda x: B[0] + x * B[1]\n",
    "\n",
    "plt.scatter(x, y)\n",
    "\n",
    "plt.plot([0, 5], [f(0), f(5)])"
   ]
  },
  {
   "cell_type": "code",
   "execution_count": 25,
   "metadata": {},
   "outputs": [
    {
     "data": {
      "text/plain": [
       "<matplotlib.collections.PathCollection at 0x7f5b42197b10>"
      ]
     },
     "execution_count": 25,
     "metadata": {},
     "output_type": "execute_result"
    },
    {
     "data": {
      "image/png": "[encoded data removed]",
      "text/plain": [
       "<Figure size 640x480 with 1 Axes>"
      ]
     },
     "metadata": {},
     "output_type": "display_data"
    }
   ],
   "source": [
    "df = np.array([\n",
    "    [1, 3],\n",
    "    [2, 5],\n",
    "    [3, 7],\n",
    "    [4, 5],\n",
    "], dtype='float32')\n",
    "\n",
    "x = df[:, 0]\n",
    "y = df[:, 1]\n",
    "plt.scatter(x, y)"
   ]
  },
  {
   "cell_type": "markdown",
   "metadata": {},
   "source": [
    "$$\n",
    "    r = \\frac{\\sum z_x \\times z_y}{n-1}\n",
    "$$\n",
    "De $n-1$ term is de Bessel correctie en wordt gebruikt om $r$ **unbiased** te maken. \n",
    "Maar deze is niet nodig bij de berekening van de correlatie coefficient. "
   ]
  },
  {
   "cell_type": "code",
   "execution_count": 38,
   "metadata": {},
   "outputs": [
    {
     "data": {
      "text/plain": [
       "0.6324554681777954"
      ]
     },
     "execution_count": 38,
     "metadata": {},
     "output_type": "execute_result"
    }
   ],
   "source": [
    "# mean, std, en z-score voor x\n",
    "x_mean = x.mean()\n",
    "x_std = x.std()\n",
    "z_x = (x-x_mean)/x_std\n",
    "\n",
    "# mean, std, en z-score voor y\n",
    "y_mean = y.mean()\n",
    "y_std = y.std()\n",
    "z_y = (y-y_mean)/y_std\n",
    "\n",
    "n = df.shape[0]\n",
    "\n",
    "r = np.sum(z_x*z_y)/(n)\n",
    "r"
   ]
  },
  {
   "cell_type": "code",
   "execution_count": 30,
   "metadata": {},
   "outputs": [
    {
     "data": {
      "text/html": [
       "<div>\n",
       "<style scoped>\n",
       "    .dataframe tbody tr th:only-of-type {\n",
       "        vertical-align: middle;\n",
       "    }\n",
       "\n",
       "    .dataframe tbody tr th {\n",
       "        vertical-align: top;\n",
       "    }\n",
       "\n",
       "    .dataframe thead th {\n",
       "        text-align: right;\n",
       "    }\n",
       "</style>\n",
       "<table border=\"1\" class=\"dataframe\">\n",
       "  <thead>\n",
       "    <tr style=\"text-align: right;\">\n",
       "      <th></th>\n",
       "      <th>0</th>\n",
       "      <th>1</th>\n",
       "    </tr>\n",
       "  </thead>\n",
       "  <tbody>\n",
       "    <tr>\n",
       "      <th>0</th>\n",
       "      <td>1.000000</td>\n",
       "      <td>0.632456</td>\n",
       "    </tr>\n",
       "    <tr>\n",
       "      <th>1</th>\n",
       "      <td>0.632456</td>\n",
       "      <td>1.000000</td>\n",
       "    </tr>\n",
       "  </tbody>\n",
       "</table>\n",
       "</div>"
      ],
      "text/plain": [
       "          0         1\n",
       "0  1.000000  0.632456\n",
       "1  0.632456  1.000000"
      ]
     },
     "execution_count": 30,
     "metadata": {},
     "output_type": "execute_result"
    }
   ],
   "source": [
    "# np.corrcoef(df.T)\n",
    "pd.DataFrame(df).corr()"
   ]
  },
  {
   "cell_type": "markdown",
   "metadata": {},
   "source": [
    "Alternatieve berekeningen voor $r$:\n",
    "\\begin{align*}\n",
    "    &r = \\frac{\\sum (x_i - \\overline{\\mathbf{x}}) (y_i - \\overline{\\mathbf{y}})}{\\sqrt{\\sum (x_i - \\overline{\\mathbf{x}})^2 \\sum (y_i - \\overline{\\mathbf{y}})^2}}\\\\[2em]\n",
    "    &r = \\frac{\\text{Cov}(X, Y)}{\\sigma_X \\sigma_Y}\n",
    "\\end{align*}\n"
   ]
  },
  {
   "cell_type": "code",
   "execution_count": 5,
   "metadata": {},
   "outputs": [
    {
     "data": {
      "text/plain": [
       "0.6324555"
      ]
     },
     "execution_count": 5,
     "metadata": {},
     "output_type": "execute_result"
    }
   ],
   "source": [
    "np.sum((x - x_mean) * (y - y_mean))/(np.sqrt(np.sum((x - x_mean)**2) * np.sum((y - y_mean)**2)))"
   ]
  },
  {
   "cell_type": "code",
   "execution_count": 6,
   "metadata": {},
   "outputs": [
    {
     "data": {
      "text/plain": [
       "0.6324555243639827"
      ]
     },
     "execution_count": 6,
     "metadata": {},
     "output_type": "execute_result"
    }
   ],
   "source": [
    "covariance_matrix = np.cov(df, bias=True, rowvar=False)/(x_std*y_std)\n",
    "covariance_matrix[0, 1]"
   ]
  },
  {
   "cell_type": "code",
   "execution_count": 7,
   "metadata": {},
   "outputs": [
    {
     "data": {
      "text/plain": [
       "[<matplotlib.lines.Line2D at 0x7f5b43b32a10>]"
      ]
     },
     "execution_count": 7,
     "metadata": {},
     "output_type": "execute_result"
    },
    {
     "data": {
      "image/png": "[encoded data removed]",
      "text/plain": [
       "<Figure size 640x480 with 1 Axes>"
      ]
     },
     "metadata": {},
     "output_type": "display_data"
    }
   ],
   "source": [
    "b1 = r * y_std/x_std\n",
    "b0 = y_mean-b1*x_mean\n",
    "\n",
    "plt.scatter(x, y)\n",
    "\n",
    "y_pred = [b1*xi + b0 for xi in range(1, 5)]\n",
    "\n",
    "plt.plot(y_pred)"
   ]
  },
  {
   "cell_type": "markdown",
   "metadata": {},
   "source": [
    "Root mean squared error:\n",
    "$$\n",
    "    RMSE = \\sqrt{\\frac{\\sum_{i=1}^N (\\hat{y_i} - y_i)^2}{N}}\n",
    "$$"
   ]
  },
  {
   "cell_type": "code",
   "execution_count": 31,
   "metadata": {},
   "outputs": [
    {
     "data": {
      "text/plain": [
       "(4, 2)"
      ]
     },
     "execution_count": 31,
     "metadata": {},
     "output_type": "execute_result"
    }
   ],
   "source": [
    "df.shape"
   ]
  },
  {
   "cell_type": "code",
   "execution_count": 8,
   "metadata": {},
   "outputs": [
    {
     "data": {
      "text/plain": [
       "1.0954451150103386"
      ]
     },
     "execution_count": 8,
     "metadata": {},
     "output_type": "execute_result"
    }
   ],
   "source": [
    "RMSE = np.sqrt(np.sum((y_pred - y)**2)/df.shape[0])\n",
    "RMSE"
   ]
  },
  {
   "cell_type": "code",
   "execution_count": 9,
   "metadata": {},
   "outputs": [
    {
     "data": {
      "text/plain": [
       "1.0954451150103386"
      ]
     },
     "execution_count": 9,
     "metadata": {},
     "output_type": "execute_result"
    }
   ],
   "source": [
    "# alternatieve berekening\n",
    "np.sqrt(np.mean((y_pred - y)**2))"
   ]
  },
  {
   "cell_type": "markdown",
   "metadata": {},
   "source": [
    "Controleer en vergelijk met `LinearRegression` van sklearn"
   ]
  },
  {
   "cell_type": "code",
   "execution_count": 10,
   "metadata": {},
   "outputs": [
    {
     "data": {
      "text/plain": [
       "((array([0.79999995], dtype=float32), 3.0),\n",
       " (0.7999998937908117, 3.0000002655229707))"
      ]
     },
     "execution_count": 10,
     "metadata": {},
     "output_type": "execute_result"
    }
   ],
   "source": [
    "from sklearn.linear_model import LinearRegression\n",
    "\n",
    "lin_reg = LinearRegression().fit(x.reshape(-1, 1), y)\n",
    "(lin_reg.coef_, lin_reg.intercept_), (b1, b0)"
   ]
  },
  {
   "cell_type": "code",
   "execution_count": 11,
   "metadata": {},
   "outputs": [
    {
     "name": "stdout",
     "output_type": "stream",
     "text": [
      "Fold 0:\n",
      "  Train: index=[1 2 3]\n",
      "  Test:  index=[0]\n",
      "Fold 1:\n",
      "  Train: index=[0 2 3]\n",
      "  Test:  index=[1]\n",
      "Fold 2:\n",
      "  Train: index=[0 1 3]\n",
      "  Test:  index=[2]\n",
      "Fold 3:\n",
      "  Train: index=[0 1 2]\n",
      "  Test:  index=[3]\n"
     ]
    },
    {
     "data": {
      "text/plain": [
       "7.1655326"
      ]
     },
     "execution_count": 11,
     "metadata": {},
     "output_type": "execute_result"
    }
   ],
   "source": [
    "from sklearn.model_selection import LeaveOneOut\n",
    "from sklearn.metrics import mean_squared_error\n",
    "\n",
    "cv = LeaveOneOut()\n",
    "y_true = []\n",
    "y_pred = []\n",
    "\n",
    "for i, (train_index, test_index) in enumerate(cv.split(x)):\n",
    "    print(f\"Fold {i}:\")\n",
    "    print(f\"  Train: index={train_index}\")\n",
    "    print(f\"  Test:  index={test_index}\")\n",
    "    x_train = x[train_index].reshape(-1, 1)\n",
    "    y_train = y[train_index]\n",
    "    x_test = x[test_index].reshape(-1, 1)\n",
    "    y_test = y[test_index]\n",
    "\n",
    "    model = LinearRegression().fit(x_train, y_train)\n",
    "    y_hat = model.predict(x_test)\n",
    "    \n",
    "    y_pred.append(y_hat[0])\n",
    "    y_true.append(y_test[0])\n",
    "    \n",
    "mean_squared_error(y_true, y_pred)"
   ]
  },
  {
   "cell_type": "markdown",
   "metadata": {},
   "source": [
    "Nu gaan we logistic regression toepassen"
   ]
  },
  {
   "cell_type": "code",
   "execution_count": 12,
   "metadata": {},
   "outputs": [
    {
     "data": {
      "text/html": [
       "<div>\n",
       "<style scoped>\n",
       "    .dataframe tbody tr th:only-of-type {\n",
       "        vertical-align: middle;\n",
       "    }\n",
       "\n",
       "    .dataframe tbody tr th {\n",
       "        vertical-align: top;\n",
       "    }\n",
       "\n",
       "    .dataframe thead th {\n",
       "        text-align: right;\n",
       "    }\n",
       "</style>\n",
       "<table border=\"1\" class=\"dataframe\">\n",
       "  <thead>\n",
       "    <tr style=\"text-align: right;\">\n",
       "      <th></th>\n",
       "      <th>mean radius</th>\n",
       "      <th>mean texture</th>\n",
       "      <th>mean perimeter</th>\n",
       "      <th>mean area</th>\n",
       "      <th>mean smoothness</th>\n",
       "      <th>mean compactness</th>\n",
       "      <th>mean concavity</th>\n",
       "      <th>mean concave points</th>\n",
       "      <th>mean symmetry</th>\n",
       "      <th>mean fractal dimension</th>\n",
       "      <th>...</th>\n",
       "      <th>worst texture</th>\n",
       "      <th>worst perimeter</th>\n",
       "      <th>worst area</th>\n",
       "      <th>worst smoothness</th>\n",
       "      <th>worst compactness</th>\n",
       "      <th>worst concavity</th>\n",
       "      <th>worst concave points</th>\n",
       "      <th>worst symmetry</th>\n",
       "      <th>worst fractal dimension</th>\n",
       "      <th>target</th>\n",
       "    </tr>\n",
       "  </thead>\n",
       "  <tbody>\n",
       "    <tr>\n",
       "      <th>0</th>\n",
       "      <td>17.99</td>\n",
       "      <td>10.38</td>\n",
       "      <td>122.80</td>\n",
       "      <td>1001.0</td>\n",
       "      <td>0.11840</td>\n",
       "      <td>0.27760</td>\n",
       "      <td>0.30010</td>\n",
       "      <td>0.14710</td>\n",
       "      <td>0.2419</td>\n",
       "      <td>0.07871</td>\n",
       "      <td>...</td>\n",
       "      <td>17.33</td>\n",
       "      <td>184.60</td>\n",
       "      <td>2019.0</td>\n",
       "      <td>0.16220</td>\n",
       "      <td>0.66560</td>\n",
       "      <td>0.7119</td>\n",
       "      <td>0.2654</td>\n",
       "      <td>0.4601</td>\n",
       "      <td>0.11890</td>\n",
       "      <td>0</td>\n",
       "    </tr>\n",
       "    <tr>\n",
       "      <th>1</th>\n",
       "      <td>20.57</td>\n",
       "      <td>17.77</td>\n",
       "      <td>132.90</td>\n",
       "      <td>1326.0</td>\n",
       "      <td>0.08474</td>\n",
       "      <td>0.07864</td>\n",
       "      <td>0.08690</td>\n",
       "      <td>0.07017</td>\n",
       "      <td>0.1812</td>\n",
       "      <td>0.05667</td>\n",
       "      <td>...</td>\n",
       "      <td>23.41</td>\n",
       "      <td>158.80</td>\n",
       "      <td>1956.0</td>\n",
       "      <td>0.12380</td>\n",
       "      <td>0.18660</td>\n",
       "      <td>0.2416</td>\n",
       "      <td>0.1860</td>\n",
       "      <td>0.2750</td>\n",
       "      <td>0.08902</td>\n",
       "      <td>0</td>\n",
       "    </tr>\n",
       "    <tr>\n",
       "      <th>2</th>\n",
       "      <td>19.69</td>\n",
       "      <td>21.25</td>\n",
       "      <td>130.00</td>\n",
       "      <td>1203.0</td>\n",
       "      <td>0.10960</td>\n",
       "      <td>0.15990</td>\n",
       "      <td>0.19740</td>\n",
       "      <td>0.12790</td>\n",
       "      <td>0.2069</td>\n",
       "      <td>0.05999</td>\n",
       "      <td>...</td>\n",
       "      <td>25.53</td>\n",
       "      <td>152.50</td>\n",
       "      <td>1709.0</td>\n",
       "      <td>0.14440</td>\n",
       "      <td>0.42450</td>\n",
       "      <td>0.4504</td>\n",
       "      <td>0.2430</td>\n",
       "      <td>0.3613</td>\n",
       "      <td>0.08758</td>\n",
       "      <td>0</td>\n",
       "    </tr>\n",
       "    <tr>\n",
       "      <th>3</th>\n",
       "      <td>11.42</td>\n",
       "      <td>20.38</td>\n",
       "      <td>77.58</td>\n",
       "      <td>386.1</td>\n",
       "      <td>0.14250</td>\n",
       "      <td>0.28390</td>\n",
       "      <td>0.24140</td>\n",
       "      <td>0.10520</td>\n",
       "      <td>0.2597</td>\n",
       "      <td>0.09744</td>\n",
       "      <td>...</td>\n",
       "      <td>26.50</td>\n",
       "      <td>98.87</td>\n",
       "      <td>567.7</td>\n",
       "      <td>0.20980</td>\n",
       "      <td>0.86630</td>\n",
       "      <td>0.6869</td>\n",
       "      <td>0.2575</td>\n",
       "      <td>0.6638</td>\n",
       "      <td>0.17300</td>\n",
       "      <td>0</td>\n",
       "    </tr>\n",
       "    <tr>\n",
       "      <th>4</th>\n",
       "      <td>20.29</td>\n",
       "      <td>14.34</td>\n",
       "      <td>135.10</td>\n",
       "      <td>1297.0</td>\n",
       "      <td>0.10030</td>\n",
       "      <td>0.13280</td>\n",
       "      <td>0.19800</td>\n",
       "      <td>0.10430</td>\n",
       "      <td>0.1809</td>\n",
       "      <td>0.05883</td>\n",
       "      <td>...</td>\n",
       "      <td>16.67</td>\n",
       "      <td>152.20</td>\n",
       "      <td>1575.0</td>\n",
       "      <td>0.13740</td>\n",
       "      <td>0.20500</td>\n",
       "      <td>0.4000</td>\n",
       "      <td>0.1625</td>\n",
       "      <td>0.2364</td>\n",
       "      <td>0.07678</td>\n",
       "      <td>0</td>\n",
       "    </tr>\n",
       "    <tr>\n",
       "      <th>...</th>\n",
       "      <td>...</td>\n",
       "      <td>...</td>\n",
       "      <td>...</td>\n",
       "      <td>...</td>\n",
       "      <td>...</td>\n",
       "      <td>...</td>\n",
       "      <td>...</td>\n",
       "      <td>...</td>\n",
       "      <td>...</td>\n",
       "      <td>...</td>\n",
       "      <td>...</td>\n",
       "      <td>...</td>\n",
       "      <td>...</td>\n",
       "      <td>...</td>\n",
       "      <td>...</td>\n",
       "      <td>...</td>\n",
       "      <td>...</td>\n",
       "      <td>...</td>\n",
       "      <td>...</td>\n",
       "      <td>...</td>\n",
       "      <td>...</td>\n",
       "    </tr>\n",
       "    <tr>\n",
       "      <th>564</th>\n",
       "      <td>21.56</td>\n",
       "      <td>22.39</td>\n",
       "      <td>142.00</td>\n",
       "      <td>1479.0</td>\n",
       "      <td>0.11100</td>\n",
       "      <td>0.11590</td>\n",
       "      <td>0.24390</td>\n",
       "      <td>0.13890</td>\n",
       "      <td>0.1726</td>\n",
       "      <td>0.05623</td>\n",
       "      <td>...</td>\n",
       "      <td>26.40</td>\n",
       "      <td>166.10</td>\n",
       "      <td>2027.0</td>\n",
       "      <td>0.14100</td>\n",
       "      <td>0.21130</td>\n",
       "      <td>0.4107</td>\n",
       "      <td>0.2216</td>\n",
       "      <td>0.2060</td>\n",
       "      <td>0.07115</td>\n",
       "      <td>0</td>\n",
       "    </tr>\n",
       "    <tr>\n",
       "      <th>565</th>\n",
       "      <td>20.13</td>\n",
       "      <td>28.25</td>\n",
       "      <td>131.20</td>\n",
       "      <td>1261.0</td>\n",
       "      <td>0.09780</td>\n",
       "      <td>0.10340</td>\n",
       "      <td>0.14400</td>\n",
       "      <td>0.09791</td>\n",
       "      <td>0.1752</td>\n",
       "      <td>0.05533</td>\n",
       "      <td>...</td>\n",
       "      <td>38.25</td>\n",
       "      <td>155.00</td>\n",
       "      <td>1731.0</td>\n",
       "      <td>0.11660</td>\n",
       "      <td>0.19220</td>\n",
       "      <td>0.3215</td>\n",
       "      <td>0.1628</td>\n",
       "      <td>0.2572</td>\n",
       "      <td>0.06637</td>\n",
       "      <td>0</td>\n",
       "    </tr>\n",
       "    <tr>\n",
       "      <th>566</th>\n",
       "      <td>16.60</td>\n",
       "      <td>28.08</td>\n",
       "      <td>108.30</td>\n",
       "      <td>858.1</td>\n",
       "      <td>0.08455</td>\n",
       "      <td>0.10230</td>\n",
       "      <td>0.09251</td>\n",
       "      <td>0.05302</td>\n",
       "      <td>0.1590</td>\n",
       "      <td>0.05648</td>\n",
       "      <td>...</td>\n",
       "      <td>34.12</td>\n",
       "      <td>126.70</td>\n",
       "      <td>1124.0</td>\n",
       "      <td>0.11390</td>\n",
       "      <td>0.30940</td>\n",
       "      <td>0.3403</td>\n",
       "      <td>0.1418</td>\n",
       "      <td>0.2218</td>\n",
       "      <td>0.07820</td>\n",
       "      <td>0</td>\n",
       "    </tr>\n",
       "    <tr>\n",
       "      <th>567</th>\n",
       "      <td>20.60</td>\n",
       "      <td>29.33</td>\n",
       "      <td>140.10</td>\n",
       "      <td>1265.0</td>\n",
       "      <td>0.11780</td>\n",
       "      <td>0.27700</td>\n",
       "      <td>0.35140</td>\n",
       "      <td>0.15200</td>\n",
       "      <td>0.2397</td>\n",
       "      <td>0.07016</td>\n",
       "      <td>...</td>\n",
       "      <td>39.42</td>\n",
       "      <td>184.60</td>\n",
       "      <td>1821.0</td>\n",
       "      <td>0.16500</td>\n",
       "      <td>0.86810</td>\n",
       "      <td>0.9387</td>\n",
       "      <td>0.2650</td>\n",
       "      <td>0.4087</td>\n",
       "      <td>0.12400</td>\n",
       "      <td>0</td>\n",
       "    </tr>\n",
       "    <tr>\n",
       "      <th>568</th>\n",
       "      <td>7.76</td>\n",
       "      <td>24.54</td>\n",
       "      <td>47.92</td>\n",
       "      <td>181.0</td>\n",
       "      <td>0.05263</td>\n",
       "      <td>0.04362</td>\n",
       "      <td>0.00000</td>\n",
       "      <td>0.00000</td>\n",
       "      <td>0.1587</td>\n",
       "      <td>0.05884</td>\n",
       "      <td>...</td>\n",
       "      <td>30.37</td>\n",
       "      <td>59.16</td>\n",
       "      <td>268.6</td>\n",
       "      <td>0.08996</td>\n",
       "      <td>0.06444</td>\n",
       "      <td>0.0000</td>\n",
       "      <td>0.0000</td>\n",
       "      <td>0.2871</td>\n",
       "      <td>0.07039</td>\n",
       "      <td>1</td>\n",
       "    </tr>\n",
       "  </tbody>\n",
       "</table>\n",
       "<p>569 rows × 31 columns</p>\n",
       "</div>"
      ],
      "text/plain": [
       "     mean radius  mean texture  mean perimeter  mean area  mean smoothness  \\\n",
       "0          17.99         10.38          122.80     1001.0          0.11840   \n",
       "1          20.57         17.77          132.90     1326.0          0.08474   \n",
       "2          19.69         21.25          130.00     1203.0          0.10960   \n",
       "3          11.42         20.38           77.58      386.1          0.14250   \n",
       "4          20.29         14.34          135.10     1297.0          0.10030   \n",
       "..           ...           ...             ...        ...              ...   \n",
       "564        21.56         22.39          142.00     1479.0          0.11100   \n",
       "565        20.13         28.25          131.20     1261.0          0.09780   \n",
       "566        16.60         28.08          108.30      858.1          0.08455   \n",
       "567        20.60         29.33          140.10     1265.0          0.11780   \n",
       "568         7.76         24.54           47.92      181.0          0.05263   \n",
       "\n",
       "     mean compactness  mean concavity  mean concave points  mean symmetry  \\\n",
       "0             0.27760         0.30010              0.14710         0.2419   \n",
       "1             0.07864         0.08690              0.07017         0.1812   \n",
       "2             0.15990         0.19740              0.12790         0.2069   \n",
       "3             0.28390         0.24140              0.10520         0.2597   \n",
       "4             0.13280         0.19800              0.10430         0.1809   \n",
       "..                ...             ...                  ...            ...   \n",
       "564           0.11590         0.24390              0.13890         0.1726   \n",
       "565           0.10340         0.14400              0.09791         0.1752   \n",
       "566           0.10230         0.09251              0.05302         0.1590   \n",
       "567           0.27700         0.35140              0.15200         0.2397   \n",
       "568           0.04362         0.00000              0.00000         0.1587   \n",
       "\n",
       "     mean fractal dimension  ...  worst texture  worst perimeter  worst area  \\\n",
       "0                   0.07871  ...          17.33           184.60      2019.0   \n",
       "1                   0.05667  ...          23.41           158.80      1956.0   \n",
       "2                   0.05999  ...          25.53           152.50      1709.0   \n",
       "3                   0.09744  ...          26.50            98.87       567.7   \n",
       "4                   0.05883  ...          16.67           152.20      1575.0   \n",
       "..                      ...  ...            ...              ...         ...   \n",
       "564                 0.05623  ...          26.40           166.10      2027.0   \n",
       "565                 0.05533  ...          38.25           155.00      1731.0   \n",
       "566                 0.05648  ...          34.12           126.70      1124.0   \n",
       "567                 0.07016  ...          39.42           184.60      1821.0   \n",
       "568                 0.05884  ...          30.37            59.16       268.6   \n",
       "\n",
       "     worst smoothness  worst compactness  worst concavity  \\\n",
       "0             0.16220            0.66560           0.7119   \n",
       "1             0.12380            0.18660           0.2416   \n",
       "2             0.14440            0.42450           0.4504   \n",
       "3             0.20980            0.86630           0.6869   \n",
       "4             0.13740            0.20500           0.4000   \n",
       "..                ...                ...              ...   \n",
       "564           0.14100            0.21130           0.4107   \n",
       "565           0.11660            0.19220           0.3215   \n",
       "566           0.11390            0.30940           0.3403   \n",
       "567           0.16500            0.86810           0.9387   \n",
       "568           0.08996            0.06444           0.0000   \n",
       "\n",
       "     worst concave points  worst symmetry  worst fractal dimension  target  \n",
       "0                  0.2654          0.4601                  0.11890       0  \n",
       "1                  0.1860          0.2750                  0.08902       0  \n",
       "2                  0.2430          0.3613                  0.08758       0  \n",
       "3                  0.2575          0.6638                  0.17300       0  \n",
       "4                  0.1625          0.2364                  0.07678       0  \n",
       "..                    ...             ...                      ...     ...  \n",
       "564                0.2216          0.2060                  0.07115       0  \n",
       "565                0.1628          0.2572                  0.06637       0  \n",
       "566                0.1418          0.2218                  0.07820       0  \n",
       "567                0.2650          0.4087                  0.12400       0  \n",
       "568                0.0000          0.2871                  0.07039       1  \n",
       "\n",
       "[569 rows x 31 columns]"
      ]
     },
     "execution_count": 12,
     "metadata": {},
     "output_type": "execute_result"
    }
   ],
   "source": [
    "from sklearn.datasets import load_breast_cancer\n",
    "\n",
    "df_bc = load_breast_cancer(as_frame=True).frame\n",
    "df_bc"
   ]
  },
  {
   "cell_type": "code",
   "execution_count": 13,
   "metadata": {},
   "outputs": [
    {
     "name": "stdout",
     "output_type": "stream",
     "text": [
      "<class 'pandas.core.frame.DataFrame'>\n",
      "RangeIndex: 569 entries, 0 to 568\n",
      "Data columns (total 31 columns):\n",
      " #   Column                   Non-Null Count  Dtype  \n",
      "---  ------                   --------------  -----  \n",
      " 0   mean radius              569 non-null    float64\n",
      " 1   mean texture             569 non-null    float64\n",
      " 2   mean perimeter           569 non-null    float64\n",
      " 3   mean area                569 non-null    float64\n",
      " 4   mean smoothness          569 non-null    float64\n",
      " 5   mean compactness         569 non-null    float64\n",
      " 6   mean concavity           569 non-null    float64\n",
      " 7   mean concave points      569 non-null    float64\n",
      " 8   mean symmetry            569 non-null    float64\n",
      " 9   mean fractal dimension   569 non-null    float64\n",
      " 10  radius error             569 non-null    float64\n",
      " 11  texture error            569 non-null    float64\n",
      " 12  perimeter error          569 non-null    float64\n",
      " 13  area error               569 non-null    float64\n",
      " 14  smoothness error         569 non-null    float64\n",
      " 15  compactness error        569 non-null    float64\n",
      " 16  concavity error          569 non-null    float64\n",
      " 17  concave points error     569 non-null    float64\n",
      " 18  symmetry error           569 non-null    float64\n",
      " 19  fractal dimension error  569 non-null    float64\n",
      " 20  worst radius             569 non-null    float64\n",
      " 21  worst texture            569 non-null    float64\n",
      " 22  worst perimeter          569 non-null    float64\n",
      " 23  worst area               569 non-null    float64\n",
      " 24  worst smoothness         569 non-null    float64\n",
      " 25  worst compactness        569 non-null    float64\n",
      " 26  worst concavity          569 non-null    float64\n",
      " 27  worst concave points     569 non-null    float64\n",
      " 28  worst symmetry           569 non-null    float64\n",
      " 29  worst fractal dimension  569 non-null    float64\n",
      " 30  target                   569 non-null    int64  \n",
      "dtypes: float64(30), int64(1)\n",
      "memory usage: 137.9 KB\n"
     ]
    }
   ],
   "source": [
    "df_bc.info()"
   ]
  },
  {
   "cell_type": "code",
   "execution_count": 14,
   "metadata": {},
   "outputs": [
    {
     "data": {
      "text/plain": [
       "False"
      ]
     },
     "execution_count": 14,
     "metadata": {},
     "output_type": "execute_result"
    }
   ],
   "source": [
    "df_bc.isnull().values.any()"
   ]
  },
  {
   "cell_type": "code",
   "execution_count": 15,
   "metadata": {},
   "outputs": [
    {
     "data": {
      "text/plain": [
       "((455, 30), (114, 30), (455,), (114,))"
      ]
     },
     "execution_count": 15,
     "metadata": {},
     "output_type": "execute_result"
    }
   ],
   "source": [
    "from sklearn.model_selection import train_test_split\n",
    "\n",
    "X = df_bc.iloc[:, :-1]\n",
    "y = df_bc.iloc[:, -1]\n",
    "X_train, X_test, y_train, y_test = train_test_split(X, y, test_size=.2, stratify=y)\n",
    "\n",
    "X_train.shape, X_test.shape, y_train.shape, y_test.shape"
   ]
  },
  {
   "cell_type": "code",
   "execution_count": 18,
   "metadata": {},
   "outputs": [
    {
     "data": {
      "text/plain": [
       "(array([[5.92180841e-04, 9.99407819e-01],\n",
       "        [2.24497242e-03, 9.97755028e-01],\n",
       "        [9.99218619e-01, 7.81380923e-04],\n",
       "        [9.99994316e-01, 5.68364873e-06],\n",
       "        [9.99518018e-01, 4.81981825e-04],\n",
       "        [7.74180999e-02, 9.22581900e-01],\n",
       "        [4.32158911e-03, 9.95678411e-01],\n",
       "        [9.99995057e-01, 4.94252131e-06],\n",
       "        [1.97903679e-03, 9.98020963e-01],\n",
       "        [5.34828616e-03, 9.94651714e-01],\n",
       "        [1.01185605e-02, 9.89881440e-01],\n",
       "        [9.99998100e-01, 1.90036215e-06],\n",
       "        [7.48943139e-05, 9.99925106e-01],\n",
       "        [1.33938670e-01, 8.66061330e-01],\n",
       "        [4.74640202e-02, 9.52535980e-01],\n",
       "        [4.09005316e-03, 9.95909947e-01],\n",
       "        [1.37978775e-02, 9.86202123e-01],\n",
       "        [3.36779506e-02, 9.66322049e-01],\n",
       "        [1.18684523e-03, 9.98813155e-01],\n",
       "        [2.57771330e-02, 9.74222867e-01],\n",
       "        [9.16839159e-01, 8.31608414e-02],\n",
       "        [5.62884595e-02, 9.43711541e-01],\n",
       "        [9.99820007e-01, 1.79992663e-04],\n",
       "        [9.99537263e-01, 4.62736683e-04],\n",
       "        [1.93830231e-03, 9.98061698e-01],\n",
       "        [8.15630961e-01, 1.84369039e-01],\n",
       "        [2.85707907e-03, 9.97142921e-01],\n",
       "        [9.99972963e-01, 2.70368100e-05],\n",
       "        [1.00000000e+00, 2.15800585e-20],\n",
       "        [2.38499967e-03, 9.97615000e-01],\n",
       "        [2.79750106e-01, 7.20249894e-01],\n",
       "        [9.94434306e-01, 5.56569387e-03],\n",
       "        [4.73506429e-02, 9.52649357e-01],\n",
       "        [1.14437158e-02, 9.88556284e-01],\n",
       "        [9.49908358e-01, 5.00916420e-02],\n",
       "        [2.35159504e-02, 9.76484050e-01],\n",
       "        [7.82546789e-03, 9.92174532e-01],\n",
       "        [9.98825341e-01, 1.17465937e-03],\n",
       "        [1.01087071e-01, 8.98912929e-01],\n",
       "        [9.70720643e-03, 9.90292794e-01],\n",
       "        [3.45789850e-04, 9.99654210e-01],\n",
       "        [6.80722158e-01, 3.19277842e-01],\n",
       "        [1.09098833e-02, 9.89090117e-01],\n",
       "        [1.13774010e-02, 9.88622599e-01],\n",
       "        [1.43857082e-02, 9.85614292e-01],\n",
       "        [5.44056018e-01, 4.55943982e-01],\n",
       "        [2.23395900e-03, 9.97766041e-01],\n",
       "        [9.99999993e-01, 7.43915736e-09],\n",
       "        [9.78066808e-02, 9.02193319e-01],\n",
       "        [6.34405599e-03, 9.93655944e-01],\n",
       "        [2.08782272e-02, 9.79121773e-01],\n",
       "        [1.00000000e+00, 6.58361778e-11],\n",
       "        [9.99018980e-01, 9.81020114e-04],\n",
       "        [6.90898061e-04, 9.99309102e-01],\n",
       "        [9.99981043e-01, 1.89571264e-05],\n",
       "        [9.99999975e-01, 2.53742826e-08],\n",
       "        [9.94389515e-01, 5.61048464e-03],\n",
       "        [1.00000000e+00, 5.03334339e-18],\n",
       "        [1.70366306e-03, 9.98296337e-01],\n",
       "        [1.09584138e-01, 8.90415862e-01],\n",
       "        [1.00000000e+00, 1.20985662e-10],\n",
       "        [1.00000000e+00, 1.09605018e-16],\n",
       "        [9.99875706e-01, 1.24293796e-04],\n",
       "        [9.99990853e-01, 9.14662597e-06],\n",
       "        [9.98556852e-01, 1.44314829e-03],\n",
       "        [1.01605885e-02, 9.89839412e-01],\n",
       "        [1.54387302e-02, 9.84561270e-01],\n",
       "        [6.78640643e-03, 9.93213594e-01],\n",
       "        [1.00000000e+00, 2.38893366e-16],\n",
       "        [9.99993529e-01, 6.47096207e-06],\n",
       "        [9.67476742e-01, 3.25232579e-02],\n",
       "        [1.57575601e-03, 9.98424244e-01],\n",
       "        [8.81973948e-01, 1.18026052e-01],\n",
       "        [5.27838869e-01, 4.72161131e-01],\n",
       "        [5.47962976e-03, 9.94520370e-01],\n",
       "        [5.12125350e-02, 9.48787465e-01],\n",
       "        [9.99999960e-01, 4.01872868e-08],\n",
       "        [2.94743365e-02, 9.70525663e-01],\n",
       "        [2.93497798e-03, 9.97065022e-01],\n",
       "        [2.94076312e-01, 7.05923688e-01],\n",
       "        [5.99886280e-03, 9.94001137e-01],\n",
       "        [1.00000000e+00, 4.36602505e-12],\n",
       "        [2.15628297e-02, 9.78437170e-01],\n",
       "        [8.75016001e-02, 9.12498400e-01],\n",
       "        [5.69124376e-05, 9.99943088e-01],\n",
       "        [2.28918839e-03, 9.97710812e-01],\n",
       "        [4.74387531e-03, 9.95256125e-01],\n",
       "        [1.29561128e-01, 8.70438872e-01],\n",
       "        [4.48997244e-03, 9.95510028e-01],\n",
       "        [1.85060341e-01, 8.14939659e-01],\n",
       "        [1.00000000e+00, 1.31574904e-16],\n",
       "        [7.69609564e-03, 9.92303904e-01],\n",
       "        [4.31838182e-03, 9.95681618e-01],\n",
       "        [2.00238916e-02, 9.79976108e-01],\n",
       "        [1.26788126e-01, 8.73211874e-01],\n",
       "        [9.99999906e-01, 9.37272298e-08],\n",
       "        [5.45708871e-02, 9.45429113e-01],\n",
       "        [9.99992876e-01, 7.12396685e-06],\n",
       "        [8.40085800e-03, 9.91599142e-01],\n",
       "        [4.94553771e-01, 5.05446229e-01],\n",
       "        [2.83210745e-04, 9.99716789e-01],\n",
       "        [7.48259727e-01, 2.51740273e-01],\n",
       "        [2.53394410e-01, 7.46605590e-01],\n",
       "        [4.36623575e-03, 9.95633764e-01],\n",
       "        [8.79018089e-03, 9.91209819e-01],\n",
       "        [1.00000000e+00, 7.85704820e-48],\n",
       "        [2.96970507e-03, 9.97030295e-01],\n",
       "        [3.82926804e-02, 9.61707320e-01],\n",
       "        [3.01536371e-04, 9.99698464e-01],\n",
       "        [4.11693389e-03, 9.95883066e-01],\n",
       "        [5.26915559e-03, 9.94730844e-01],\n",
       "        [1.46233480e-03, 9.98537665e-01],\n",
       "        [5.76889013e-02, 9.42311099e-01],\n",
       "        [4.22213687e-03, 9.95777863e-01]]),\n",
       " array([1, 1, 0, 0, 0, 1, 1, 0, 1, 1, 1, 0, 1, 1, 1, 1, 1, 1, 1, 1, 0, 1,\n",
       "        0, 0, 1, 0, 1, 0, 0, 1, 1, 0, 1, 1, 0, 1, 1, 0, 1, 1, 1, 0, 1, 1,\n",
       "        1, 0, 1, 0, 1, 1, 1, 0, 0, 1, 0, 0, 0, 0, 1, 1, 0, 0, 0, 0, 0, 1,\n",
       "        1, 1, 0, 0, 0, 1, 0, 0, 1, 1, 0, 1, 1, 1, 1, 0, 1, 1, 1, 1, 1, 1,\n",
       "        1, 1, 0, 1, 1, 1, 1, 0, 1, 0, 1, 1, 1, 0, 1, 1, 1, 0, 1, 1, 1, 1,\n",
       "        1, 1, 1, 1]))"
      ]
     },
     "execution_count": 18,
     "metadata": {},
     "output_type": "execute_result"
    }
   ],
   "source": [
    "from sklearn.linear_model import LogisticRegression\n",
    "\n",
    "logit_reg = LogisticRegression(solver='liblinear').fit(X_train, y_train)\n",
    "y_pred_proba = logit_reg.predict_proba(X_test)\n",
    "y_pred = logit_reg.predict(X_test)\n",
    "\n",
    "y_pred_proba, y_pred"
   ]
  },
  {
   "cell_type": "code",
   "execution_count": 19,
   "metadata": {},
   "outputs": [
    {
     "data": {
      "text/html": [
       "<div>\n",
       "<style scoped>\n",
       "    .dataframe tbody tr th:only-of-type {\n",
       "        vertical-align: middle;\n",
       "    }\n",
       "\n",
       "    .dataframe tbody tr th {\n",
       "        vertical-align: top;\n",
       "    }\n",
       "\n",
       "    .dataframe thead th {\n",
       "        text-align: right;\n",
       "    }\n",
       "</style>\n",
       "<table border=\"1\" class=\"dataframe\">\n",
       "  <thead>\n",
       "    <tr style=\"text-align: right;\">\n",
       "      <th></th>\n",
       "      <th>actual</th>\n",
       "      <th>p(0)</th>\n",
       "      <th>p(1)</th>\n",
       "      <th>predicted</th>\n",
       "    </tr>\n",
       "  </thead>\n",
       "  <tbody>\n",
       "    <tr>\n",
       "      <th>234</th>\n",
       "      <td>1</td>\n",
       "      <td>0.000592</td>\n",
       "      <td>0.999408</td>\n",
       "      <td>1</td>\n",
       "    </tr>\n",
       "    <tr>\n",
       "      <th>429</th>\n",
       "      <td>1</td>\n",
       "      <td>0.002245</td>\n",
       "      <td>0.997755</td>\n",
       "      <td>1</td>\n",
       "    </tr>\n",
       "    <tr>\n",
       "      <th>274</th>\n",
       "      <td>0</td>\n",
       "      <td>0.999219</td>\n",
       "      <td>0.000781</td>\n",
       "      <td>0</td>\n",
       "    </tr>\n",
       "    <tr>\n",
       "      <th>87</th>\n",
       "      <td>0</td>\n",
       "      <td>0.999994</td>\n",
       "      <td>0.000006</td>\n",
       "      <td>0</td>\n",
       "    </tr>\n",
       "    <tr>\n",
       "      <th>15</th>\n",
       "      <td>0</td>\n",
       "      <td>0.999518</td>\n",
       "      <td>0.000482</td>\n",
       "      <td>0</td>\n",
       "    </tr>\n",
       "    <tr>\n",
       "      <th>...</th>\n",
       "      <td>...</td>\n",
       "      <td>...</td>\n",
       "      <td>...</td>\n",
       "      <td>...</td>\n",
       "    </tr>\n",
       "    <tr>\n",
       "      <th>187</th>\n",
       "      <td>1</td>\n",
       "      <td>0.004117</td>\n",
       "      <td>0.995883</td>\n",
       "      <td>1</td>\n",
       "    </tr>\n",
       "    <tr>\n",
       "      <th>293</th>\n",
       "      <td>1</td>\n",
       "      <td>0.005269</td>\n",
       "      <td>0.994731</td>\n",
       "      <td>1</td>\n",
       "    </tr>\n",
       "    <tr>\n",
       "      <th>354</th>\n",
       "      <td>1</td>\n",
       "      <td>0.001462</td>\n",
       "      <td>0.998538</td>\n",
       "      <td>1</td>\n",
       "    </tr>\n",
       "    <tr>\n",
       "      <th>286</th>\n",
       "      <td>1</td>\n",
       "      <td>0.057689</td>\n",
       "      <td>0.942311</td>\n",
       "      <td>1</td>\n",
       "    </tr>\n",
       "    <tr>\n",
       "      <th>220</th>\n",
       "      <td>1</td>\n",
       "      <td>0.004222</td>\n",
       "      <td>0.995778</td>\n",
       "      <td>1</td>\n",
       "    </tr>\n",
       "  </tbody>\n",
       "</table>\n",
       "<p>114 rows × 4 columns</p>\n",
       "</div>"
      ],
      "text/plain": [
       "     actual      p(0)      p(1)  predicted\n",
       "234       1  0.000592  0.999408          1\n",
       "429       1  0.002245  0.997755          1\n",
       "274       0  0.999219  0.000781          0\n",
       "87        0  0.999994  0.000006          0\n",
       "15        0  0.999518  0.000482          0\n",
       "..      ...       ...       ...        ...\n",
       "187       1  0.004117  0.995883          1\n",
       "293       1  0.005269  0.994731          1\n",
       "354       1  0.001462  0.998538          1\n",
       "286       1  0.057689  0.942311          1\n",
       "220       1  0.004222  0.995778          1\n",
       "\n",
       "[114 rows x 4 columns]"
      ]
     },
     "execution_count": 19,
     "metadata": {},
     "output_type": "execute_result"
    }
   ],
   "source": [
    "logit_reg_res = pd.DataFrame({\n",
    "    'actual': y_test,\n",
    "    'p(0)': y_pred_proba[:, 0].ravel(),\n",
    "    'p(1)': y_pred_proba[:, 1].ravel(),\n",
    "    'predicted': y_pred\n",
    "})\n",
    "\n",
    "logit_reg_res"
   ]
  },
  {
   "cell_type": "code",
   "execution_count": 20,
   "metadata": {},
   "outputs": [
    {
     "data": {
      "text/plain": [
       "(0.9861111111111112, 0.9285714285714286)"
      ]
     },
     "execution_count": 20,
     "metadata": {},
     "output_type": "execute_result"
    },
    {
     "data": {
      "image/png": "[encoded data removed]",
      "text/plain": [
       "<Figure size 640x480 with 2 Axes>"
      ]
     },
     "metadata": {},
     "output_type": "display_data"
    }
   ],
   "source": [
    "from sklearn.metrics import confusion_matrix\n",
    "\n",
    "cm = confusion_matrix(logit_reg_res['actual'], logit_reg_res['predicted'])\n",
    "sns.heatmap(cm, annot=True, cmap='Reds', fmt='g')\n",
    "plt.xlabel('Predicted', fontsize=12)\n",
    "plt.ylabel('True', fontsize=12)\n",
    "\n",
    "tn, fp, fn, tp = cm.ravel()\n",
    "\n",
    "sensitivity = tp/(tp+fn)\n",
    "specificity = tn/(fp+tn)\n",
    "\n",
    "sensitivity, specificity"
   ]
  },
  {
   "cell_type": "code",
   "execution_count": 21,
   "metadata": {},
   "outputs": [
    {
     "name": "stdout",
     "output_type": "stream",
     "text": [
      "FPR =  [0.         0.07142857 1.        ]\n",
      "TPR =  [0.         0.98611111 1.        ]\n"
     ]
    },
    {
     "data": {
      "image/png": "[encoded data removed]",
      "text/plain": [
       "<Figure size 640x480 with 1 Axes>"
      ]
     },
     "metadata": {},
     "output_type": "display_data"
    }
   ],
   "source": [
    "from sklearn.metrics import roc_curve, auc, RocCurveDisplay\n",
    "\n",
    "fpr, tpr, tresholds = roc_curve(logit_reg_res['actual'], logit_reg_res['predicted'], pos_label=1)\n",
    "\n",
    "print(\"FPR = \", fpr)\n",
    "print(\"TPR = \", tpr)\n",
    "\n",
    "roc_auc = auc(fpr, tpr)\n",
    "\n",
    "roc_disp = RocCurveDisplay(fpr=fpr, tpr=tpr, roc_auc=roc_auc, estimator_name='Logistic regression')\n",
    "roc_disp.plot()\n",
    "plt.show()"
   ]
  },
  {
   "cell_type": "markdown",
   "metadata": {},
   "source": [
    "Merk op"
   ]
  },
  {
   "cell_type": "code",
   "execution_count": 46,
   "metadata": {},
   "outputs": [
    {
     "data": {
      "text/plain": [
       "450    1\n",
       "267    1\n",
       "212    0\n",
       "517    0\n",
       "459    1\n",
       "      ..\n",
       "102    1\n",
       "477    1\n",
       "200    1\n",
       "543    1\n",
       "162    0\n",
       "Name: p(1), Length: 114, dtype: int64"
      ]
     },
     "execution_count": 46,
     "metadata": {},
     "output_type": "execute_result"
    }
   ],
   "source": [
    "(logit_reg_res['p(1)'] > 0.5)*1"
   ]
  },
  {
   "cell_type": "code",
   "execution_count": 23,
   "metadata": {},
   "outputs": [
    {
     "data": {
      "text/plain": [
       "234    1\n",
       "429    1\n",
       "274    0\n",
       "87     0\n",
       "15     0\n",
       "      ..\n",
       "187    1\n",
       "293    1\n",
       "354    1\n",
       "286    1\n",
       "220    1\n",
       "Name: predicted, Length: 114, dtype: int64"
      ]
     },
     "execution_count": 23,
     "metadata": {},
     "output_type": "execute_result"
    }
   ],
   "source": [
    "logit_reg_res['predicted']"
   ]
  },
  {
   "cell_type": "markdown",
   "metadata": {},
   "source": [
    "Even wat anders:\n",
    "- Linear Discriminant Analysis, ook een vorm van dimensie reductie voor classificatie problemen\n",
    "- Projecteer de datapunten op een lijn zodanig dat \n",
    "  - de variantie tussen de klassen zo groot mogelijk\n",
    "  - de variantie binnen iedere klasse zo klein mogelijk is\n",
    "- Reductie van $d$ dimensies naar 1 dimensie\n",
    "- Relatie met logistic regression"
   ]
  },
  {
   "cell_type": "code",
   "execution_count": 24,
   "metadata": {},
   "outputs": [
    {
     "name": "stdout",
     "output_type": "stream",
     "text": [
      "Train-test shapes: ((455, 1), (114, 1), (455,), (114,))\n",
      "sensitivity=1.0\n",
      "specificity=0.9285714285714286\n",
      "cm=array([[39,  3],\n",
      "       [ 0, 72]])\n"
     ]
    },
    {
     "data": {
      "image/png": "[encoded data removed]",
      "text/plain": [
       "<Figure size 640x480 with 1 Axes>"
      ]
     },
     "metadata": {},
     "output_type": "display_data"
    }
   ],
   "source": [
    "from sklearn.discriminant_analysis import LinearDiscriminantAnalysis\n",
    "\n",
    "df_bc = load_breast_cancer(as_frame=True).frame\n",
    "\n",
    "df_lda = LinearDiscriminantAnalysis().fit_transform(df_bc.iloc[:, :-1], df_bc.iloc[:, -1])\n",
    "\n",
    "X = df_lda\n",
    "y = df_bc.iloc[:, -1]\n",
    "X_train, X_test, y_train, y_test = train_test_split(X, y, test_size=.2, stratify=y)\n",
    "\n",
    "print(f\"Train-test shapes: {X_train.shape, X_test.shape, y_train.shape, y_test.shape}\")\n",
    "\n",
    "logit_reg = LogisticRegression(solver='liblinear').fit(X_train, y_train)\n",
    "y_pred_proba = logit_reg.predict_proba(X_test)\n",
    "y_pred = logit_reg.predict(X_test)\n",
    "\n",
    "logit_reg_res = pd.DataFrame({\n",
    "    'actual': y_test,\n",
    "    'p(0)': y_pred_proba[:, 0].ravel(),\n",
    "    'p(1)': y_pred_proba[:, 1].ravel(),\n",
    "    'predicted': y_pred\n",
    "})\n",
    "\n",
    "cm = confusion_matrix(logit_reg_res['actual'], logit_reg_res['predicted'])\n",
    "\n",
    "tn, fp, fn, tp = cm.ravel()\n",
    "\n",
    "sensitivity = tp/(tp+fn)\n",
    "specificity = tn/(fp+tn)\n",
    "\n",
    "print(f\"{sensitivity=}\")\n",
    "print(f\"{specificity=}\")\n",
    "print(f\"{cm=}\")\n",
    "\n",
    "fpr, tpr, tresholds = roc_curve(logit_reg_res['actual'], logit_reg_res['predicted'], pos_label=1)\n",
    "roc_auc = auc(fpr, tpr)\n",
    "roc_disp = RocCurveDisplay(fpr=fpr, tpr=tpr, roc_auc=roc_auc, estimator_name='Logistic regression')\n",
    "roc_disp.plot()\n",
    "plt.show()"
   ]
  }
 ],
 "metadata": {
  "kernelspec": {
   "display_name": "Python 3",
   "language": "python",
   "name": "python3"
  },
  "language_info": {
   "codemirror_mode": {
    "name": "ipython",
    "version": 3
   },
   "file_extension": ".py",
   "mimetype": "text/x-python",
   "name": "python",
   "nbconvert_exporter": "python",
   "pygments_lexer": "ipython3",
   "version": "3.12.3"
  }
 },
 "nbformat": 4,
 "nbformat_minor": 2
}
